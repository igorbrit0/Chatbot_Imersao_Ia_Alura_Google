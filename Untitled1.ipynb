{
  "nbformat": 4,
  "nbformat_minor": 0,
  "metadata": {
    "colab": {
      "provenance": [],
      "authorship_tag": "ABX9TyObvG08JcM27xmURldm7AQQ",
      "include_colab_link": true
    },
    "kernelspec": {
      "name": "python3",
      "display_name": "Python 3"
    },
    "language_info": {
      "name": "python"
    }
  },
  "cells": [
    {
      "cell_type": "markdown",
      "metadata": {
        "id": "view-in-github",
        "colab_type": "text"
      },
      "source": [
        "<a href=\"https://colab.research.google.com/github/igorbrit0/Chatbot_Imersao_Ia_Alura_Google/blob/main/Untitled1.ipynb\" target=\"_parent\"><img src=\"https://colab.research.google.com/assets/colab-badge.svg\" alt=\"Open In Colab\"/></a>"
      ]
    },
    {
      "cell_type": "markdown",
      "source": [
        "Instalando o SDK do Google"
      ],
      "metadata": {
        "id": "fgQsMO_M0L0m"
      }
    },
    {
      "cell_type": "code",
      "execution_count": 1,
      "metadata": {
        "id": "13K2QzYdz1Vw"
      },
      "outputs": [],
      "source": [
        "!pip install -q -U google-generativeai"
      ]
    },
    {
      "cell_type": "code",
      "source": [
        "# Import the Python SDK\n",
        "import google.generativeai as genai\n",
        "# Used to securely store your API key\n",
        "from google.colab import userdata\n",
        "api_key=userdata.get('SECRET_KEY')\n",
        "genai.configure(api_key=api_key)"
      ],
      "metadata": {
        "id": "oL5VlZ5U1OkP"
      },
      "execution_count": 2,
      "outputs": []
    },
    {
      "cell_type": "markdown",
      "source": [
        "Modelos Disponíveis"
      ],
      "metadata": {
        "id": "HArgNy8a19SY"
      }
    },
    {
      "cell_type": "code",
      "source": [
        "for m in genai.list_models():\n",
        "  if 'generateContent' in m.supported_generation_methods:\n",
        "    print(m.name)"
      ],
      "metadata": {
        "colab": {
          "base_uri": "https://localhost:8080/",
          "height": 139
        },
        "id": "1TVTIANU1yuc",
        "outputId": "d4a23e8b-24ad-447e-d477-662e7a0712c4"
      },
      "execution_count": 6,
      "outputs": [
        {
          "output_type": "stream",
          "name": "stdout",
          "text": [
            "models/gemini-1.0-pro\n",
            "models/gemini-1.0-pro-001\n",
            "models/gemini-1.0-pro-latest\n",
            "models/gemini-1.0-pro-vision-latest\n",
            "models/gemini-1.5-pro-latest\n",
            "models/gemini-pro\n",
            "models/gemini-pro-vision\n"
          ]
        }
      ]
    },
    {
      "cell_type": "code",
      "source": [
        "gen_config={\n",
        "    'candidate_count':1,\n",
        "    'temperature':0.5,\n",
        "}"
      ],
      "metadata": {
        "id": "I8ZjoQ1p4nzB"
      },
      "execution_count": 16,
      "outputs": []
    },
    {
      "cell_type": "markdown",
      "source": [
        "Parâmetros de Segurança"
      ],
      "metadata": {
        "id": "9E3-Gqes92Pb"
      }
    },
    {
      "cell_type": "code",
      "source": [
        "safety_settings={\n",
        "    'HATE': 'BLOCK_NONE',\n",
        "    'HARASSMENT': 'BLOCK_NONE',\n",
        "    'SEXUAL' : 'BLOCK_NONE',\n",
        "    'DANGEROUS' : 'BLOCK_NONE'\n",
        "}"
      ],
      "metadata": {
        "id": "bzt0Vy9y5Kll"
      },
      "execution_count": 17,
      "outputs": []
    },
    {
      "cell_type": "code",
      "source": [
        "model = genai.GenerativeModel(model_name='gemini-1.0-pro',\n",
        "                                  generation_config=gen_config,\n",
        "                                  safety_settings=safety_settings,)"
      ],
      "metadata": {
        "id": "Vp-faW2L7Hg3"
      },
      "execution_count": 19,
      "outputs": []
    },
    {
      "cell_type": "code",
      "source": [
        "response = model.generate_content('O que O livro Código Limpo nos ensina?')\n",
        "response.text"
      ],
      "metadata": {
        "colab": {
          "base_uri": "https://localhost:8080/",
          "height": 140
        },
        "id": "cO-gbssp7w0X",
        "outputId": "5f1c1273-6822-45fd-e465-4d967d2d3d63"
      },
      "execution_count": 23,
      "outputs": [
        {
          "output_type": "execute_result",
          "data": {
            "text/plain": [
              "'**Princípios de Código Limpo**\\n\\nO livro \"Código Limpo\" de Robert C. Martin apresenta os seguintes princípios para escrever código limpo:\\n\\n* **Simplicidade:** O código deve ser fácil de entender e modificar.\\n* **Legibilidade:** O código deve ser formatado e documentado de forma clara para facilitar a leitura.\\n* **Modularidade:** O código deve ser dividido em módulos reutilizáveis e autossuficientes.\\n* **Abstração:** O código deve ocultar detalhes de implementação desnecessários para o usuário.\\n* **Testes:** O código deve ser testado completamente para garantir sua correção.\\n* **Refatoração:** O código deve ser revisado e melhorado regularmente para mantê-lo limpo e eficiente.\\n\\n**Técnicas Específicas**\\n\\nO livro também fornece técnicas específicas para aplicar esses princípios, incluindo:\\n\\n* **Nomes significativos:** Use nomes de variáveis, funções e classes que descrevam claramente sua finalidade.\\n* **Funções pequenas:** Mantenha as funções curtas e focadas em uma única responsabilidade.\\n* **Comentários concisos:** Forneça comentários que expliquem o propósito do código, não apenas o que ele faz.\\n* **Layout consistente:** Use um estilo de codificação consistente para melhorar a legibilidade.\\n* **Testes unitários:** Escreva testes unitários para verificar a funcionalidade de pequenas unidades de código.\\n* **Refatoração regular:** Revise e melhore o código ao longo do tempo para mantê-lo limpo e eficiente.\\n\\n**Benefícios do Código Limpo**\\n\\nEscrever código limpo traz vários benefícios, incluindo:\\n\\n* **Manutenção mais fácil:** Código limpo é mais fácil de entender e modificar, reduzindo o tempo e o esforço de manutenção.\\n* **Menos erros:** Código limpo é menos propenso a erros, pois é mais fácil de ler e entender.\\n* **Maior produtividade:** Código limpo permite que os desenvolvedores trabalhem de forma mais eficiente, pois eles podem se concentrar na lógica do negócio em vez de resolver problemas de código.\\n* **Melhor colaboração:** Código limpo facilita a colaboração entre desenvolvedores, pois é mais fácil de entender e modificar por outras pessoas.'"
            ],
            "application/vnd.google.colaboratory.intrinsic+json": {
              "type": "string"
            }
          },
          "metadata": {},
          "execution_count": 23
        }
      ]
    },
    {
      "cell_type": "markdown",
      "source": [
        "Chat"
      ],
      "metadata": {
        "id": "ID0iXVkY9vAW"
      }
    },
    {
      "cell_type": "code",
      "source": [
        "chat = model.start_chat(history=[])\n",
        "prompt = input('Esperando prompt: ')\n",
        "\n",
        "while prompt != 'fim':\n",
        "  response = chat.send_message(prompt)\n",
        "  print('Resposta:', response.text, '\\n\\n')\n",
        "  prompt = input('Esperando prompt: ')"
      ],
      "metadata": {
        "colab": {
          "base_uri": "https://localhost:8080/",
          "height": 836
        },
        "id": "2um4z_l5-Vo5",
        "outputId": "6349dd50-5138-455d-ae8f-7eedfca94f0b"
      },
      "execution_count": 30,
      "outputs": [
        {
          "name": "stdout",
          "output_type": "stream",
          "text": [
            "Esperando prompt: olá chat\n",
            "Resposta: Olá! Como posso ajudá-lo hoje? \n",
            "\n",
            "\n",
            "Esperando prompt: descreva uma ia\n",
            "Resposta: **Inteligência Artificial (IA)**\n",
            "\n",
            "A Inteligência Artificial (IA) é um campo da ciência da computação que se concentra no desenvolvimento de sistemas e algoritmos que podem executar tarefas que normalmente requerem inteligência humana, como aprendizado, resolução de problemas e tomada de decisão.\n",
            "\n",
            "**Características da IA:**\n",
            "\n",
            "* **Aprendizado de Máquina:** Capacidade de aprender com dados sem programação explícita.\n",
            "* **Processamento de Linguagem Natural:** Compreensão e geração de linguagem humana.\n",
            "* **Visão Computacional:** Interpretação e análise de imagens e vídeos.\n",
            "* **Tomada de Decisão:** Capacidade de avaliar informações e tomar decisões com base em critérios predefinidos.\n",
            "* **Resolução de Problemas:** Capacidade de identificar e resolver problemas complexos.\n",
            "\n",
            "**Tipos de IA:**\n",
            "\n",
            "* **IA Fraca (Narrow AI):** Projetada para executar tarefas específicas, como reconhecimento facial ou tradução de idiomas.\n",
            "* **IA Geral (General AI):** Possui habilidades cognitivas amplas, semelhantes às dos humanos.\n",
            "* **IA Superinteligente (Super AI):** Excede as capacidades intelectuais humanas em todos os aspectos.\n",
            "\n",
            "**Aplicações da IA:**\n",
            "\n",
            "* Automação de processos\n",
            "* Análise preditiva\n",
            "* Diagnóstico médico\n",
            "* Reconhecimento de fala e imagem\n",
            "* Veículos autônomos\n",
            "* Jogos e entretenimento\n",
            "\n",
            "**Implicações da IA:**\n",
            "\n",
            "A IA tem o potencial de transformar muitos aspectos da sociedade, incluindo:\n",
            "\n",
            "* **Mercado de Trabalho:** Automação de tarefas pode levar à perda de empregos, mas também criar novas oportunidades.\n",
            "* **Privacidade:** Os sistemas de IA podem coletar e analisar grandes quantidades de dados, levantando preocupações sobre privacidade.\n",
            "* **Ética:** É essencial considerar as implicações éticas da IA, como viés algorítmico e uso indevido.\n",
            "\n",
            "**Futuro da IA:**\n",
            "\n",
            "A IA está evoluindo rapidamente e espera-se que desempenhe um papel cada vez mais significativo em nossas vidas. Os avanços contínuos em aprendizado de máquina, processamento de dados e poder computacional estão impulsionando o desenvolvimento de sistemas de IA mais sofisticados e capazes. \n",
            "\n",
            "\n",
            "Esperando prompt: fim\n"
          ]
        }
      ]
    },
    {
      "cell_type": "code",
      "source": [
        "chat"
      ],
      "metadata": {
        "colab": {
          "base_uri": "https://localhost:8080/"
        },
        "id": "s02hNfhHBqlZ",
        "outputId": "54c7de86-2d25-4f41-ec68-b82efccb0fc2"
      },
      "execution_count": 34,
      "outputs": [
        {
          "output_type": "execute_result",
          "data": {
            "text/plain": [
              "ChatSession(\n",
              "    model=genai.GenerativeModel(\n",
              "        model_name='models/gemini-1.0-pro',\n",
              "        generation_config={'candidate_count': 1, 'temperature': 0.5},\n",
              "        safety_settings={<HarmCategory.HARM_CATEGORY_HATE_SPEECH: 8>: <HarmBlockThreshold.BLOCK_NONE: 4>, <HarmCategory.HARM_CATEGORY_HARASSMENT: 7>: <HarmBlockThreshold.BLOCK_NONE: 4>, <HarmCategory.HARM_CATEGORY_SEXUALLY_EXPLICIT: 9>: <HarmBlockThreshold.BLOCK_NONE: 4>, <HarmCategory.HARM_CATEGORY_DANGEROUS_CONTENT: 10>: <HarmBlockThreshold.BLOCK_NONE: 4>},\n",
              "        tools=None,\n",
              "        system_instruction=None,\n",
              "    ),\n",
              "    history=[glm.Content({'parts': [{'text': 'olá chat'}], 'role': 'user'}), glm.Content({'parts': [{'text': 'Olá! Como po...judá-lo hoje?'}], 'role': 'model'}), glm.Content({'parts': [{'text': 'descreva uma ia'}], 'role': 'user'}), glm.Content({'parts': [{'text': '**Inteligênc...os e capazes.'}], 'role': 'model'})]\n",
              ")"
            ]
          },
          "metadata": {},
          "execution_count": 34
        }
      ]
    },
    {
      "cell_type": "code",
      "source": [
        "chat.history"
      ],
      "metadata": {
        "colab": {
          "base_uri": "https://localhost:8080/"
        },
        "id": "2C4Yd2Z8B36v",
        "outputId": "c1f70c0f-6ef0-4695-a1c0-3fafe19a6fc8"
      },
      "execution_count": 33,
      "outputs": [
        {
          "output_type": "execute_result",
          "data": {
            "text/plain": [
              "[parts {\n",
              "   text: \"ol\\303\\241 chat\"\n",
              " }\n",
              " role: \"user\",\n",
              " parts {\n",
              "   text: \"Ol\\303\\241! Como posso ajud\\303\\241-lo hoje?\"\n",
              " }\n",
              " role: \"model\",\n",
              " parts {\n",
              "   text: \"descreva uma ia\"\n",
              " }\n",
              " role: \"user\",\n",
              " parts {\n",
              "   text: \"**Intelig\\303\\252ncia Artificial (IA)**\\n\\nA Intelig\\303\\252ncia Artificial (IA) \\303\\251 um campo da ci\\303\\252ncia da computa\\303\\247\\303\\243o que se concentra no desenvolvimento de sistemas e algoritmos que podem executar tarefas que normalmente requerem intelig\\303\\252ncia humana, como aprendizado, resolu\\303\\247\\303\\243o de problemas e tomada de decis\\303\\243o.\\n\\n**Caracter\\303\\255sticas da IA:**\\n\\n* **Aprendizado de M\\303\\241quina:** Capacidade de aprender com dados sem programa\\303\\247\\303\\243o expl\\303\\255cita.\\n* **Processamento de Linguagem Natural:** Compreens\\303\\243o e gera\\303\\247\\303\\243o de linguagem humana.\\n* **Vis\\303\\243o Computacional:** Interpreta\\303\\247\\303\\243o e an\\303\\241lise de imagens e v\\303\\255deos.\\n* **Tomada de Decis\\303\\243o:** Capacidade de avaliar informa\\303\\247\\303\\265es e tomar decis\\303\\265es com base em crit\\303\\251rios predefinidos.\\n* **Resolu\\303\\247\\303\\243o de Problemas:** Capacidade de identificar e resolver problemas complexos.\\n\\n**Tipos de IA:**\\n\\n* **IA Fraca (Narrow AI):** Projetada para executar tarefas espec\\303\\255ficas, como reconhecimento facial ou tradu\\303\\247\\303\\243o de idiomas.\\n* **IA Geral (General AI):** Possui habilidades cognitivas amplas, semelhantes \\303\\240s dos humanos.\\n* **IA Superinteligente (Super AI):** Excede as capacidades intelectuais humanas em todos os aspectos.\\n\\n**Aplica\\303\\247\\303\\265es da IA:**\\n\\n* Automa\\303\\247\\303\\243o de processos\\n* An\\303\\241lise preditiva\\n* Diagn\\303\\263stico m\\303\\251dico\\n* Reconhecimento de fala e imagem\\n* Ve\\303\\255culos aut\\303\\264nomos\\n* Jogos e entretenimento\\n\\n**Implica\\303\\247\\303\\265es da IA:**\\n\\nA IA tem o potencial de transformar muitos aspectos da sociedade, incluindo:\\n\\n* **Mercado de Trabalho:** Automa\\303\\247\\303\\243o de tarefas pode levar \\303\\240 perda de empregos, mas tamb\\303\\251m criar novas oportunidades.\\n* **Privacidade:** Os sistemas de IA podem coletar e analisar grandes quantidades de dados, levantando preocupa\\303\\247\\303\\265es sobre privacidade.\\n* **\\303\\211tica:** \\303\\211 essencial considerar as implica\\303\\247\\303\\265es \\303\\251ticas da IA, como vi\\303\\251s algor\\303\\255tmico e uso indevido.\\n\\n**Futuro da IA:**\\n\\nA IA est\\303\\241 evoluindo rapidamente e espera-se que desempenhe um papel cada vez mais significativo em nossas vidas. Os avan\\303\\247os cont\\303\\255nuos em aprendizado de m\\303\\241quina, processamento de dados e poder computacional est\\303\\243o impulsionando o desenvolvimento de sistemas de IA mais sofisticados e capazes.\"\n",
              " }\n",
              " role: \"model\"]"
            ]
          },
          "metadata": {},
          "execution_count": 33
        }
      ]
    },
    {
      "cell_type": "code",
      "source": [
        "#Melhorando a visualização\n",
        "#Código disponível em https://ai.google.dev/tutorials/python_quickstart#import_packages\n",
        "import textwrap\n",
        "from IPython.display import display\n",
        "from IPython.display import Markdown\n",
        "\n",
        "def to_markdown(text):\n",
        "  text = text.replace('•', '  *')\n",
        "  return Markdown(textwrap.indent(text, '> ', predicate=lambda _: True))\n",
        "\n",
        "#Imprimindo o histórico\n",
        "for message in chat.history:\n",
        "  display(to_markdown(f'**{message.role}**: {message.parts[0].text}'))\n",
        "  print('-------------------------------------------')"
      ],
      "metadata": {
        "colab": {
          "base_uri": "https://localhost:8080/",
          "height": 826
        },
        "id": "qih4UKkZAi07",
        "outputId": "c6579b2f-145e-4d6b-e6cc-b16ab3cf0da8"
      },
      "execution_count": 31,
      "outputs": [
        {
          "output_type": "display_data",
          "data": {
            "text/plain": [
              "<IPython.core.display.Markdown object>"
            ],
            "text/markdown": "> **user**: olá chat"
          },
          "metadata": {}
        },
        {
          "output_type": "stream",
          "name": "stdout",
          "text": [
            "-------------------------------------------\n"
          ]
        },
        {
          "output_type": "display_data",
          "data": {
            "text/plain": [
              "<IPython.core.display.Markdown object>"
            ],
            "text/markdown": "> **model**: Olá! Como posso ajudá-lo hoje?"
          },
          "metadata": {}
        },
        {
          "output_type": "stream",
          "name": "stdout",
          "text": [
            "-------------------------------------------\n"
          ]
        },
        {
          "output_type": "display_data",
          "data": {
            "text/plain": [
              "<IPython.core.display.Markdown object>"
            ],
            "text/markdown": "> **user**: descreva uma ia"
          },
          "metadata": {}
        },
        {
          "output_type": "stream",
          "name": "stdout",
          "text": [
            "-------------------------------------------\n"
          ]
        },
        {
          "output_type": "display_data",
          "data": {
            "text/plain": [
              "<IPython.core.display.Markdown object>"
            ],
            "text/markdown": "> **model**: **Inteligência Artificial (IA)**\n> \n> A Inteligência Artificial (IA) é um campo da ciência da computação que se concentra no desenvolvimento de sistemas e algoritmos que podem executar tarefas que normalmente requerem inteligência humana, como aprendizado, resolução de problemas e tomada de decisão.\n> \n> **Características da IA:**\n> \n> * **Aprendizado de Máquina:** Capacidade de aprender com dados sem programação explícita.\n> * **Processamento de Linguagem Natural:** Compreensão e geração de linguagem humana.\n> * **Visão Computacional:** Interpretação e análise de imagens e vídeos.\n> * **Tomada de Decisão:** Capacidade de avaliar informações e tomar decisões com base em critérios predefinidos.\n> * **Resolução de Problemas:** Capacidade de identificar e resolver problemas complexos.\n> \n> **Tipos de IA:**\n> \n> * **IA Fraca (Narrow AI):** Projetada para executar tarefas específicas, como reconhecimento facial ou tradução de idiomas.\n> * **IA Geral (General AI):** Possui habilidades cognitivas amplas, semelhantes às dos humanos.\n> * **IA Superinteligente (Super AI):** Excede as capacidades intelectuais humanas em todos os aspectos.\n> \n> **Aplicações da IA:**\n> \n> * Automação de processos\n> * Análise preditiva\n> * Diagnóstico médico\n> * Reconhecimento de fala e imagem\n> * Veículos autônomos\n> * Jogos e entretenimento\n> \n> **Implicações da IA:**\n> \n> A IA tem o potencial de transformar muitos aspectos da sociedade, incluindo:\n> \n> * **Mercado de Trabalho:** Automação de tarefas pode levar à perda de empregos, mas também criar novas oportunidades.\n> * **Privacidade:** Os sistemas de IA podem coletar e analisar grandes quantidades de dados, levantando preocupações sobre privacidade.\n> * **Ética:** É essencial considerar as implicações éticas da IA, como viés algorítmico e uso indevido.\n> \n> **Futuro da IA:**\n> \n> A IA está evoluindo rapidamente e espera-se que desempenhe um papel cada vez mais significativo em nossas vidas. Os avanços contínuos em aprendizado de máquina, processamento de dados e poder computacional estão impulsionando o desenvolvimento de sistemas de IA mais sofisticados e capazes."
          },
          "metadata": {}
        },
        {
          "output_type": "stream",
          "name": "stdout",
          "text": [
            "-------------------------------------------\n"
          ]
        }
      ]
    }
  ]
}